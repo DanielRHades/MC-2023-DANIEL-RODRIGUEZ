{
  "nbformat": 4,
  "nbformat_minor": 0,
  "metadata": {
    "colab": {
      "provenance": []
    },
    "kernelspec": {
      "name": "python3",
      "display_name": "Python 3"
    },
    "language_info": {
      "name": "python"
    }
  },
  "cells": [
    {
      "cell_type": "code",
      "execution_count": 5,
      "metadata": {
        "colab": {
          "base_uri": "https://localhost:8080/"
        },
        "id": "hH4Y-RwOsrFn",
        "outputId": "c60b07b6-41e2-4025-d7d0-1220a9dbb56b"
      },
      "outputs": [
        {
          "output_type": "stream",
          "name": "stdout",
          "text": [
            "El resultado de la primera operación es: {2, 4, 8, 10, 12, 18, 20}\n",
            "El resultado de la segunda operación es: {2, 4, 6, 8, 10, 12, 14, 15, 16, 18, 20, 22, 24}\n",
            "El resultado de la tercera operación es: {2, 3, 5, 6, 7, 11, 13, 14, 16, 17, 19, 22, 23, 24, 29, 31, 37, 41, 43}\n",
            "El resultado de la cuarta operación es: {9, 15}\n"
          ]
        }
      ],
      "source": [
        "A=set({6,7,8,9,10,11,12,13,14,15,16,17,18,19,20})\n",
        "B=set({2,4,6,8,10,12,14,16,18,20,22,24})\n",
        "C=set({1,4,8,10,12,15,18,20})\n",
        "D=set({2,3,5,7,11,13,17,19,23,29,31,37,41,43})\n",
        "\n",
        "def union (a,b):\n",
        "  c=a.union(b)\n",
        "  return c\n",
        "def interseccion (a,b):\n",
        "  c=a.intersection(b)\n",
        "  return c\n",
        "def diferencia (a,b):\n",
        "  c=a.difference(b)\n",
        "  return c\n",
        "def diferencia_simetrica (a,b):\n",
        "  c=a.symmetric_difference(b)\n",
        "  return c\n",
        "\n",
        "OP1=interseccion(B,diferencia_simetrica(C,D))\n",
        "print(f\"El resultado de la primera operación es: {OP1}\")\n",
        "\n",
        "OP2=union(interseccion(A,C),B)\n",
        "print(f\"El resultado de la segunda operación es: {OP2}\")\n",
        "\n",
        "OP3=diferencia(union(B,D),C)\n",
        "print(f\"El resultado de la tercera operación es: {OP3}\")\n",
        "\n",
        "OP4=diferencia_simetrica(diferencia(A,B),interseccion(A,D))\n",
        "print(f\"El resultado de la cuarta operación es: {OP4}\")"
      ]
    }
  ]
}