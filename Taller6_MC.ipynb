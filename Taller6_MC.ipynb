{
  "nbformat": 4,
  "nbformat_minor": 0,
  "metadata": {
    "colab": {
      "provenance": []
    },
    "kernelspec": {
      "name": "python3",
      "display_name": "Python 3"
    },
    "language_info": {
      "name": "python"
    }
  },
  "cells": [
    {
      "cell_type": "code",
      "execution_count": 11,
      "metadata": {
        "colab": {
          "base_uri": "https://localhost:8080/"
        },
        "id": "EwWb1d_3zN5j",
        "outputId": "e4facdb3-b12a-4118-9c9d-8f552d6b64e5"
      },
      "outputs": [
        {
          "output_type": "stream",
          "name": "stdout",
          "text": [
            "Dame un angulo en radianes: 2\n",
            "Valor estimado:  1.0\n",
            "El error aproximado relativo en porcentaje es:  100.0 %\n",
            "El numero de iteraciones es de:  1\n",
            "Valor estimado:  0.9650934149601134\n",
            "El error aproximado relativo en porcentaje es:  3.61691257 %\n",
            "El numero de iteraciones es de:  2\n",
            "Valor estimado:  0.9657026497996868\n",
            "El error aproximado relativo en porcentaje es:  0.06308721 %\n",
            "El numero de iteraciones es de:  3\n",
            "Valor estimado:  0.9656955610304412\n",
            "El error aproximado relativo en porcentaje es:  0.00073406 %\n",
            "El numero de iteraciones es de:  4\n",
            "Valor estimado:  0.9656956228916228\n",
            "El error aproximado relativo en porcentaje es:  6.41e-06 %\n",
            "El numero de iteraciones es de:  5\n",
            "Valor estimado:  0.9656956224597503\n",
            "El error aproximado relativo en porcentaje es:  4e-08 %\n",
            "El numero de iteraciones es de:  6\n"
          ]
        }
      ],
      "source": [
        "import math\n",
        "angulo=float(input(\"Dame un angulo en radianes: \"))\n",
        "angulorad=math.radians(angulo)\n",
        "suma=0\n",
        "ea=100\n",
        "es=((0.5*10**-8)*100)\n",
        "n=0\n",
        "while ea>es:\n",
        "  termino=((-1)**n)*((angulorad**n)/math.factorial(n))\n",
        "  suma+=termino\n",
        "  print(\"Valor estimado: \",suma)\n",
        "  if suma!=0:\n",
        "    ea=abs((termino/suma)*100)\n",
        "    ea=round(ea,8)\n",
        "    print(\"El error aproximado relativo en porcentaje es: \",ea, \"%\")\n",
        "  n+=1\n",
        "  print(\"El numero de iteraciones es de: \",n)"
      ]
    }
  ]
}