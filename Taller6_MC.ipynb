{
  "nbformat": 4,
  "nbformat_minor": 0,
  "metadata": {
    "colab": {
      "provenance": []
    },
    "kernelspec": {
      "name": "python3",
      "display_name": "Python 3"
    },
    "language_info": {
      "name": "python"
    }
  },
  "cells": [
    {
      "cell_type": "code",
      "execution_count": null,
      "metadata": {
        "id": "EwWb1d_3zN5j"
      },
      "outputs": [],
      "source": [
        "import math\n",
        "angulo=float(input(\"Dame un angulo en radianes: \"))\n",
        "angulorad=math.radians(angulo)\n",
        "suma=0\n",
        "ea=100\n",
        "es=((0.5*10**-8)*100)\n",
        "n=0\n",
        "while ea>es:\n",
        "  termino=((-1)**n)*((angulorad**n)/math.factorial(n))\n",
        "  suma+=termino\n",
        "  print(\"Valor estimado: \",suma)\n",
        "  if suma!=0:\n",
        "    ea=abs((termino/suma)*100)\n",
        "    ea=round(ea,8)\n",
        "    print(\"El error aproximado relativo en porcentaje es: \",ea, \"%\")\n",
        "  n+=1\n",
        "  print(\"El numero de iteraciones es de: \",n)"
      ]
    }
  ]
}