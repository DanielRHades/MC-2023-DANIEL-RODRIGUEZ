{
  "nbformat": 4,
  "nbformat_minor": 0,
  "metadata": {
    "colab": {
      "provenance": []
    },
    "kernelspec": {
      "name": "python3",
      "display_name": "Python 3"
    },
    "language_info": {
      "name": "python"
    }
  },
  "cells": [
    {
      "cell_type": "code",
      "execution_count": 1,
      "metadata": {
        "id": "THRiLbLFCo20",
        "colab": {
          "base_uri": "https://localhost:8080/"
        },
        "outputId": "187a3b44-3e67-43d6-fd71-f70deba62e01"
      },
      "outputs": [
        {
          "output_type": "stream",
          "name": "stdout",
          "text": [
            "Ingresa una lista de números para formar un conjunto, al ser un conjunto no pueden ser números repetidos.2\n",
            "¿Deseas agregar mas números?si\n",
            "Sigue las instrucciones.\n",
            "Ingresa una lista de números para formar un conjunto, al ser un conjunto no pueden ser números repetidos.5\n",
            "¿Deseas agregar mas números?si\n",
            "Sigue las instrucciones.\n",
            "Ingresa una lista de números para formar un conjunto, al ser un conjunto no pueden ser números repetidos.8\n",
            "¿Deseas agregar mas números?si\n",
            "Sigue las instrucciones.\n",
            "Ingresa una lista de números para formar un conjunto, al ser un conjunto no pueden ser números repetidos.9\n",
            "¿Deseas agregar mas números?no\n",
            "La cantidad de subconjuntos es: 16 y son los siguientes: \n",
            "{('2', '5'), ('5',), ('2',), ('2', '8', '9'), ('8', '9'), (), ('5', '8'), ('5', '8', '9'), ('2', '9'), ('9',), ('5', '9'), ('2', '8'), ('2', '5', '9'), ('8',), ('2', '5', '8', '9'), ('2', '5', '8')}\n"
          ]
        }
      ],
      "source": [
        "from more_itertools import powerset\n",
        "n=0\n",
        "A=[]\n",
        "while n==0:\n",
        "  datos=input(\"Ingresa una lista de números para formar un conjunto, al ser un conjunto no pueden ser números repetidos.\")\n",
        "  A.append(datos)\n",
        "  seguir=input(\"¿Deseas agregar mas números?\")\n",
        "  if seguir==\"si\":\n",
        "    print(\"Sigue las instrucciones.\")\n",
        "  else:\n",
        "   break\n",
        "subconjuntos=2**len(A)\n",
        "sorted(A)\n",
        "print(f\"La cantidad de subconjuntos es: {subconjuntos} y son los siguientes: \")\n",
        "print(set(powerset(A)))\n",
        "\n",
        "\n",
        "\n",
        "\n",
        "\n",
        "\n",
        "\n"
      ]
    }
  ]
}