{
  "nbformat": 4,
  "nbformat_minor": 0,
  "metadata": {
    "colab": {
      "provenance": []
    },
    "kernelspec": {
      "name": "python3",
      "display_name": "Python 3"
    },
    "language_info": {
      "name": "python"
    }
  },
  "cells": [
    {
      "cell_type": "code",
      "execution_count": null,
      "metadata": {
        "id": "THRiLbLFCo20"
      },
      "outputs": [],
      "source": [
        "from more_itertools import powerset\n",
        "n=0\n",
        "A=set()\n",
        "while n==0:\n",
        "  datos=input(\"Ingresa una lista de números para formar un conjunto, al ser un conjunto no pueden ser números repetidos.\")\n",
        "  A.add(datos)\n",
        "  seguir=input(\"¿Deseas agregar mas números?\")\n",
        "  if seguir==\"si\":\n",
        "    print(\"Sigue las instrucciones.\")\n",
        "  else:\n",
        "   break\n",
        "subconjuntos=2**len(A)\n",
        "sorted(A)\n",
        "print(f\"La cantidad de subconjuntos es: {subconjuntos} y son los siguientes: \")\n",
        "print(set(powerset(A)))\n"
      ]
    }
  ]
}