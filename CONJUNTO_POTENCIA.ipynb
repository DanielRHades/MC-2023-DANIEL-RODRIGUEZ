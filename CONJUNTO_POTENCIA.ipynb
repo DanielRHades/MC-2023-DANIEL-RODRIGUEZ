{
  "nbformat": 4,
  "nbformat_minor": 0,
  "metadata": {
    "colab": {
      "provenance": []
    },
    "kernelspec": {
      "name": "python3",
      "display_name": "Python 3"
    },
    "language_info": {
      "name": "python"
    }
  },
  "cells": [
    {
      "cell_type": "code",
      "execution_count": 7,
      "metadata": {
        "id": "THRiLbLFCo20",
        "colab": {
          "base_uri": "https://localhost:8080/"
        },
        "outputId": "eb996090-c14f-4578-992f-6e3f8bd765b5"
      },
      "outputs": [
        {
          "output_type": "stream",
          "name": "stdout",
          "text": [
            "Ingresa una lista de números para formar un conjunto, al ser un conjunto no pueden ser números repetidos.2\n",
            "¿Deseas agregar mas números?si\n",
            "Sigue las instrucciones.\n",
            "Ingresa una lista de números para formar un conjunto, al ser un conjunto no pueden ser números repetidos.3\n",
            "¿Deseas agregar mas números?si\n",
            "Sigue las instrucciones.\n",
            "Ingresa una lista de números para formar un conjunto, al ser un conjunto no pueden ser números repetidos.4\n",
            "¿Deseas agregar mas números?si\n",
            "Sigue las instrucciones.\n",
            "Ingresa una lista de números para formar un conjunto, al ser un conjunto no pueden ser números repetidos.5\n",
            "¿Deseas agregar mas números?no\n",
            "La cantidad de subconjuntos es: 16 y son los siguientes: \n",
            "{('2', '5'), ('4', '5'), ('5',), ('2',), ('4', '2'), ('3', '5'), ('4', '2', '5'), ('4', '3', '5'), ('3', '2'), ('3', '2', '5'), ('4', '3', '2', '5'), ('4',), ('4', '3', '2'), (), ('4', '3'), ('3',)}\n"
          ]
        }
      ],
      "source": [
        "from more_itertools import powerset\n",
        "n=0\n",
        "A=set()\n",
        "while n==0:\n",
        "  datos=input(\"Ingresa una lista de números para formar un conjunto, al ser un conjunto no pueden ser números repetidos.\")\n",
        "  A.add(datos)\n",
        "  seguir=input(\"¿Deseas agregar mas números?\")\n",
        "  if seguir==\"si\":\n",
        "    print(\"Sigue las instrucciones.\")\n",
        "  else:\n",
        "   break\n",
        "subconjuntos=2**len(A)\n",
        "sorted(A)\n",
        "print(f\"La cantidad de subconjuntos es: {subconjuntos} y son los siguientes: \")\n",
        "print(set(powerset(A)))\n"
      ]
    }
  ]
}