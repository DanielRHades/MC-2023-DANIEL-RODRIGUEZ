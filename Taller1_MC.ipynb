{
  "nbformat": 4,
  "nbformat_minor": 0,
  "metadata": {
    "colab": {
      "provenance": []
    },
    "kernelspec": {
      "name": "python3",
      "display_name": "Python 3"
    },
    "language_info": {
      "name": "python"
    }
  },
  "cells": [
    {
      "cell_type": "code",
      "execution_count": 15,
      "metadata": {
        "colab": {
          "base_uri": "https://localhost:8080/"
        },
        "id": "N6OUz1S5_6tt",
        "outputId": "5ad0fb2a-b8da-4bf7-e229-8d8d43bcf683"
      },
      "outputs": [
        {
          "name": "stdout",
          "output_type": "stream",
          "text": [
            "Ingresa una lista de números para formar el primer conjunto, al ser un conjunto no pueden ser números repetidos.3.4\n",
            "¿Deseas agregar mas números?si\n",
            "Sigue las instrucciones.\n",
            "Ingresa una lista de números para formar el primer conjunto, al ser un conjunto no pueden ser números repetidos.4.2\n",
            "¿Deseas agregar mas números?si\n",
            "Sigue las instrucciones.\n",
            "Ingresa una lista de números para formar el primer conjunto, al ser un conjunto no pueden ser números repetidos.5.6\n",
            "¿Deseas agregar mas números?si\n",
            "Sigue las instrucciones.\n",
            "Ingresa una lista de números para formar el primer conjunto, al ser un conjunto no pueden ser números repetidos.8.2\n",
            "¿Deseas agregar mas números?no\n",
            "Ingresa una lista de números para formar el segundo conjunto, al ser un conjunto no pueden ser números repetidos.3.4\n",
            "¿Deseas agregar mas números?si\n",
            "Sigue las instrucciones.\n",
            "Ingresa una lista de números para formar el segundo conjunto, al ser un conjunto no pueden ser números repetidos.8.8\n",
            "¿Deseas agregar mas números?si\n",
            "Sigue las instrucciones.\n",
            "Ingresa una lista de números para formar el segundo conjunto, al ser un conjunto no pueden ser números repetidos.9.3\n",
            "¿Deseas agregar mas números?si\n",
            "Sigue las instrucciones.\n",
            "Ingresa una lista de números para formar el segundo conjunto, al ser un conjunto no pueden ser números repetidos.8.2\n",
            "¿Deseas agregar mas números?no\n",
            "Dime que operación deseas ejecutar, UNION=1, INTERSECCION=2, DIFERENCIA=3, DIFERENCIA SIMETRICA=4, para acabar el programa digita otra cosa.2\n",
            "El primer conjunto es: {8.2, 3.4, 4.2, 5.6}, el segundo conjunto es {8.8, 9.3, 3.4, 8.2}\n",
            "La intersección de los 2 conjuntos es: {8.2, 3.4}\n",
            "Dime que operación deseas ejecutar, UNION=1, INTERSECCION=2, DIFERENCIA=3, DIFERENCIA SIMETRICA=4, para acabar el programa digita otra cosa.1\n",
            "El primer conjunto es: {8.2, 3.4, 4.2, 5.6}, el segundo conjunto es {8.8, 9.3, 3.4, 8.2}\n",
            "La union de los 2 conjuntos es: {3.4, 4.2, 5.6, 8.2, 8.8, 9.3}\n",
            "Dime que operación deseas ejecutar, UNION=1, INTERSECCION=2, DIFERENCIA=3, DIFERENCIA SIMETRICA=4, para acabar el programa digita otra cosa.3\n",
            "El primer conjunto es: {8.2, 3.4, 4.2, 5.6}, el segundo conjunto es {8.8, 9.3, 3.4, 8.2}\n",
            "La diferencia de los 2 conjuntos es: {4.2, 5.6}\n",
            "Dime que operación deseas ejecutar, UNION=1, INTERSECCION=2, DIFERENCIA=3, DIFERENCIA SIMETRICA=4, para acabar el programa digita otra cosa.4\n",
            "El primer conjunto es: {8.2, 3.4, 4.2, 5.6}, el segundo conjunto es {8.8, 9.3, 3.4, 8.2}\n",
            "La diferencia geometrica de los 2 conjuntos es: {4.2, 5.6, 8.8, 9.3}\n",
            "Dime que operación deseas ejecutar, UNION=1, INTERSECCION=2, DIFERENCIA=3, DIFERENCIA SIMETRICA=4, para acabar el programa digita otra cosa.nada mas\n"
          ]
        }
      ],
      "source": [
        "A=set({})\n",
        "B=set({})\n",
        "while True:\n",
        "  datos=float(input(\"Ingresa una lista de números para formar el primer conjunto, al ser un conjunto no pueden ser números repetidos.\"))\n",
        "  A.add(datos)\n",
        "  seguir=str(input(\"¿Deseas agregar mas números?\"))\n",
        "  if seguir==\"si\":\n",
        "    print(\"Sigue las instrucciones.\")\n",
        "  else:\n",
        "   break\n",
        "while True:\n",
        "  datos=float(input(\"Ingresa una lista de números para formar el segundo conjunto, al ser un conjunto no pueden ser números repetidos.\"))\n",
        "  B.add(datos)\n",
        "  seguir=str(input(\"¿Deseas agregar mas números?\"))\n",
        "  if seguir==\"si\":\n",
        "    print(\"Sigue las instrucciones.\")\n",
        "  else:\n",
        "    break\n",
        "\n",
        "while True:\n",
        "  OP=input(\"Dime que operación deseas ejecutar, UNION=1, INTERSECCION=2, DIFERENCIA=3, DIFERENCIA SIMETRICA=4, para acabar el programa digita otra cosa.\")\n",
        "  if OP==\"1\":\n",
        "    set3=A.union(B)\n",
        "    print(f\"El primer conjunto es: {A}, el segundo conjunto es {B}\")\n",
        "    print(f\"La union de los 2 conjuntos es: {set3}\")\n",
        "  elif OP==\"2\":\n",
        "    set3=A.intersection(B)\n",
        "    print(f\"El primer conjunto es: {A}, el segundo conjunto es {B}\")\n",
        "    print(f\"La intersección de los 2 conjuntos es: {set3}\")\n",
        "  elif OP==\"3\":\n",
        "    set3=A.difference(B)\n",
        "    print(f\"El primer conjunto es: {A}, el segundo conjunto es {B}\")\n",
        "    print(f\"La diferencia de los 2 conjuntos es: {set3}\")\n",
        "  elif OP==\"4\":\n",
        "    set3=A.symmetric_difference(B)\n",
        "    print(f\"El primer conjunto es: {A}, el segundo conjunto es {B}\")\n",
        "    print(f\"La diferencia geometrica de los 2 conjuntos es: {set3}\")\n",
        "  else:\n",
        "    break\n"
      ]
    }
  ]
}