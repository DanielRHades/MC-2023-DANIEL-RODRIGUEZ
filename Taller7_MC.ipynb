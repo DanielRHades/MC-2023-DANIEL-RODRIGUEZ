{
  "nbformat": 4,
  "nbformat_minor": 0,
  "metadata": {
    "colab": {
      "provenance": []
    },
    "kernelspec": {
      "name": "python3",
      "display_name": "Python 3"
    },
    "language_info": {
      "name": "python"
    }
  },
  "cells": [
    {
      "cell_type": "code",
      "execution_count": 21,
      "metadata": {
        "colab": {
          "base_uri": "https://localhost:8080/"
        },
        "id": "LBYXr7lJO9ub",
        "outputId": "d6f629fe-0fa0-4c36-88b0-30f411048cff"
      },
      "outputs": [
        {
          "output_type": "stream",
          "name": "stdout",
          "text": [
            "Valor estimado:  0.42741493\n",
            "El error aproximado relativo en porcentaje es:  7e-08 %\n",
            "El numero de iteraciones es de:  12\n",
            "Valor estimado:  0.42741493\n",
            "El error aproximado relativo en porcentaje es:  1.8e-07 %\n",
            "El numero de iteraciones es de:  11\n"
          ]
        }
      ],
      "source": [
        "import math\n",
        "x=0.85\n",
        "suma=1-x\n",
        "ea=1\n",
        "es=((0.5*(10**-8))*100)\n",
        "n=1\n",
        "while ea>es:\n",
        "  termino=((-1)**(n+1))*((x**(n+1))/math.factorial(n+1))\n",
        "  suma+=termino\n",
        "  ea=abs((termino/suma)*100)\n",
        "  ea=round(ea,8)\n",
        "  n+=1\n",
        "print(\"Valor estimado: \",round(suma,8))\n",
        "print(\"El error aproximado relativo en porcentaje es: \",ea, \"%\")\n",
        "print(\"El numero de iteraciones es de: \",n)\n",
        "\n",
        "x=0.85\n",
        "suma=(1+x)\n",
        "ea=1\n",
        "es=((0.5*(10**-8))*100)\n",
        "n=1\n",
        "while ea>es:\n",
        "  termino=((x**(n+1))/math.factorial(n+1))\n",
        "  suma+=termino\n",
        "  ea=abs((termino/suma)*100)\n",
        "  ea=round(ea,8)\n",
        "  n+=1\n",
        "print(\"Valor estimado: \",(round((1/suma),8)))\n",
        "print(\"El error aproximado relativo en porcentaje es: \",ea, \"%\")\n",
        "print(\"El numero de iteraciones es de: \",n)\n"
      ]
    }
  ]
}